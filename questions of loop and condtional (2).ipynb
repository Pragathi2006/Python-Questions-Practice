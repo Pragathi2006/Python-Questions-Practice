{
 "cells": [
  {
   "cell_type": "code",
   "execution_count": 17,
   "id": "2317bdd9-2b5e-4701-9dcd-83f2f57faef9",
   "metadata": {},
   "outputs": [
    {
     "name": "stdin",
     "output_type": "stream",
     "text": [
      "enter the factorial 12\n"
     ]
    },
    {
     "name": "stdout",
     "output_type": "stream",
     "text": [
      "479001600\n"
     ]
    }
   ],
   "source": [
    "num=int(input(\"enter the factorial\"))\n",
    "fact=1\n",
    "for i in range(1,num+1):\n",
    "    fact=fact*i\n",
    "print(fact)"
   ]
  },
  {
   "cell_type": "code",
   "execution_count": 1,
   "id": "b35b2740-e04e-4114-9422-ae3275b9bc27",
   "metadata": {},
   "outputs": [
    {
     "name": "stdout",
     "output_type": "stream",
     "text": [
      "9\n",
      "7\n"
     ]
    }
   ],
   "source": [
    "a=0\n",
    "c=0\n",
    "n=\"mahendran-6066681\"\n",
    "for i in n:\n",
    "    if i.isalpha():\n",
    "        a+=1\n",
    "    elif i.isdigit():\n",
    "        c+=1\n",
    "print(a)\n",
    "print(c)\n",
    "        \n"
   ]
  },
  {
   "cell_type": "code",
   "execution_count": 3,
   "id": "de6f64c3-3c59-45bf-92b5-6a1b8cd78343",
   "metadata": {},
   "outputs": [
    {
     "name": "stdout",
     "output_type": "stream",
     "text": [
      "loop skips\n"
     ]
    }
   ],
   "source": [
    "for index in range(50,30,-3):\n",
    "    if index==50:\n",
    "        print(\"loop skips\")\n",
    "        continue\n",
    "        print(index,end=\"\")\n",
    "        print(index)\n"
   ]
  },
  {
   "cell_type": "code",
   "execution_count": 7,
   "id": "1922a115-43f3-49ca-9c8c-77be75c550fc",
   "metadata": {},
   "outputs": [
    {
     "name": "stdout",
     "output_type": "stream",
     "text": [
      "palindrome string\n"
     ]
    }
   ],
   "source": [
    "str=\"pragathi\"\n",
    "str=str.lower()\n",
    "str1=reversed(str)\n",
    "if list(str)==list(str):\n",
    "    print(\"palindrome string\")\n",
    "else:\n",
    "    print(\"not palindrome string\")"
   ]
  },
  {
   "cell_type": "code",
   "execution_count": 9,
   "id": "d7dcff6f-d30b-420e-a0a2-5dbebd8657ea",
   "metadata": {},
   "outputs": [
    {
     "name": "stdout",
     "output_type": "stream",
     "text": [
      "odd number\n",
      "1\n",
      "3\n",
      "5\n",
      "7\n",
      "9\n",
      "11\n",
      "13\n",
      "15\n",
      "17\n",
      "19\n",
      "21\n",
      "23\n",
      "25\n"
     ]
    }
   ],
   "source": [
    "print(\"odd number\")\n",
    "for i in range(1,27):\n",
    "    if i%2==0:\n",
    "        odd=i-1\n",
    "        print(f\"{odd}\")\n"
   ]
  },
  {
   "cell_type": "code",
   "execution_count": 11,
   "id": "f3928489-d706-4fe4-a5f1-281714abb125",
   "metadata": {},
   "outputs": [
    {
     "name": "stdin",
     "output_type": "stream",
     "text": [
      "enter the number: 12\n"
     ]
    },
    {
     "name": "stdout",
     "output_type": "stream",
     "text": [
      "multiplication table of  12\n",
      "12 x 1 = 12\n",
      "12 x 2 = 24\n",
      "12 x 3 = 36\n",
      "12 x 4 = 48\n",
      "12 x 5 = 60\n",
      "12 x 6 = 72\n",
      "12 x 7 = 84\n",
      "12 x 8 = 96\n",
      "12 x 9 = 108\n",
      "12 x 10 = 120\n"
     ]
    }
   ],
   "source": [
    "num=int(input(\"enter the number:\"))\n",
    "print(\"multiplication table of \",num)\n",
    "for i in range(1,11):\n",
    "    print(num,'x',i,'=',num*i)"
   ]
  },
  {
   "cell_type": "code",
   "execution_count": 13,
   "id": "154e3f52-238c-415d-bc51-e2e7e2ab7879",
   "metadata": {},
   "outputs": [
    {
     "name": "stdin",
     "output_type": "stream",
     "text": [
      "enter the 1st number: 20\n",
      "enter the 2nd number: 30\n",
      "enter the 3rd number: 40\n"
     ]
    },
    {
     "name": "stdout",
     "output_type": "stream",
     "text": [
      "30\n",
      "the median is (20, 30, 40)\n"
     ]
    }
   ],
   "source": [
    "a=int(input(\"enter the 1st number:\"))\n",
    "b=int(input(\"enter the 2nd number:\"))\n",
    "c=int(input(\"enter the 3rd number:\"))\n",
    "median=(a,b,c)\n",
    "if(a>b and a<c) or (a<b and a>c):\n",
    "    print(a)\n",
    "elif (b>a and b<c) or (b<a and b>c):\n",
    "    print(b)\n",
    "else:\n",
    "    print(C)\n",
    "print(\"the median is\",median)"
   ]
  },
  {
   "cell_type": "code",
   "execution_count": 17,
   "id": "41fb9d73-1011-4484-89b7-1af7c56f37f2",
   "metadata": {},
   "outputs": [
    {
     "name": "stdin",
     "output_type": "stream",
     "text": [
      " 100000\n",
      " 0.07\n",
      " 98\n"
     ]
    },
    {
     "name": "stdout",
     "output_type": "stream",
     "text": [
      "year 1:9800000.00\n",
      "year 2:10486000.00\n",
      "year 3:11220020.00\n",
      "year 4:12005421.40\n",
      "year 5:12845800.90\n",
      "year 6:13745006.96\n",
      "year 7:14707157.45\n",
      "year 8:15736658.47\n",
      "year 9:16838224.56\n",
      "year 10:18016900.28\n"
     ]
    }
   ],
   "source": [
    "initial_population=int(input())\n",
    "growth_rate=float(input())\n",
    "female_precentage=float(input())\n",
    "for year in range(10):\n",
    "    total=initial_population*(1+growth_rate)**year\n",
    "    female=total*female_precentage\n",
    "    print(f\"year {year+1}:{female:.2f}\")"
   ]
  },
  {
   "cell_type": "code",
   "execution_count": null,
   "id": "b32f53ff-1d4c-448f-8a7b-100ae83afb32",
   "metadata": {},
   "outputs": [],
   "source": []
  }
 ],
 "metadata": {
  "kernelspec": {
   "display_name": "Python 3 (ipykernel)",
   "language": "python",
   "name": "python3"
  },
  "language_info": {
   "codemirror_mode": {
    "name": "ipython",
    "version": 3
   },
   "file_extension": ".py",
   "mimetype": "text/x-python",
   "name": "python",
   "nbconvert_exporter": "python",
   "pygments_lexer": "ipython3",
   "version": "3.12.4"
  }
 },
 "nbformat": 4,
 "nbformat_minor": 5
}
